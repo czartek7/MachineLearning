{
  "nbformat": 4,
  "nbformat_minor": 0,
  "metadata": {
    "colab": {
      "name": "GradientOptimizer.ipynb",
      "provenance": [],
      "collapsed_sections": []
    },
    "kernelspec": {
      "name": "python3",
      "display_name": "Python 3"
    }
  },
  "cells": [
    {
      "cell_type": "code",
      "metadata": {
        "id": "5107K32YvTsP",
        "colab_type": "code",
        "colab": {}
      },
      "source": [
        "import tensorflow as tf\n",
        "from math import exp, log\n",
        "\n",
        "##function to solve:\n",
        "def function(*args):\n",
        "\treturn tf.math.exp(-(x-3)**2-5*(y-1)**2) * tf.math.log((8+y+x**2)/(10+x+y**4))\n",
        "\n",
        "##starting points:\n",
        "def define_variables():\n",
        "\tx = tf.Variable(1.0, dtype=tf.float64)\n",
        "\ty = tf.Variable(0.5, dtype=tf.float64)\n",
        "\treturn x, y"
      ],
      "execution_count": 0,
      "outputs": []
    },
    {
      "cell_type": "code",
      "metadata": {
        "id": "1xXrfnpyvX0i",
        "colab_type": "code",
        "outputId": "3be1989a-44a5-4015-e9db-a6cbddcd7aa8",
        "colab": {
          "base_uri": "https://localhost:8080/",
          "height": 1000
        }
      },
      "source": [
        "x, y = define_variables()\n",
        "\n",
        "##learning rate:\n",
        "gradient = tf.keras.optimizers.SGD(learning_rate=0.5)\n",
        "\n",
        "##number of iterations:\n",
        "steps = 1000\n",
        "loss = []\n",
        "\n",
        "##learning loop:\n",
        "for i in range(steps):\n",
        "  funct_prev = function(x, y)\n",
        "  ##prints out every tenth value (can be commented out):\n",
        "  if i%10 == 0:\n",
        "    print (f'f(x,y) = {funct_prev},\\t X = {x.numpy()},\\t Y = {y.numpy()}')\n",
        "  gradient.minimize(function, var_list=[x, y])\n",
        "  funct = function(x, y)\n",
        "  loss_value = abs(funct-funct_prev)\n",
        "  loss.append(loss_value.numpy())"
      ],
      "execution_count": 8,
      "outputs": [
        {
          "output_type": "stream",
          "text": [
            "f(x,y) = -0.0007990354901691791,\t X = 1.0,\t Y = 0.5\n",
            "f(x,y) = -0.0009098107414328349,\t X = 1.0134951297382457,\t Y = 0.5191968057956999\n",
            "f(x,y) = -0.0010460629921621918,\t X = 1.0286478594724955,\t Y = 0.5403482097038101\n",
            "f(x,y) = -0.001215876698259492,\t X = 1.045787540126227,\t Y = 0.5637912405910371\n",
            "f(x,y) = -0.0014305692065050288,\t X = 1.0653280199171364,\t Y = 0.5899416247873336\n",
            "f(x,y) = -0.0017062239237741548,\t X = 1.087791322274141,\t Y = 0.6193167197066901\n",
            "f(x,y) = -0.00206604811977991,\t X = 1.1138366778155462,\t Y = 0.6525671841655345\n",
            "f(x,y) = -0.0025440511707255295,\t X = 1.1442946384538975,\t Y = 0.6905225407563492\n",
            "f(x,y) = -0.003190896480805604,\t X = 1.18020580691431,\t Y = 0.7342597817614102\n",
            "f(x,y) = -0.004083472796664483,\t X = 1.2228683088375805,\t Y = 0.7852078118362223\n",
            "f(x,y) = -0.005340852734968877,\t X = 1.2739215219956657,\t Y = 0.8452827668038221\n",
            "f(x,y) = -0.007148268422115667,\t X = 1.3355591318457203,\t Y = 0.9168979825889523\n",
            "f(x,y) = -0.00976599143121169,\t X = 1.4109908047482136,\t Y = 1.002011927998296\n",
            "f(x,y) = -0.013385674882559406,\t X = 1.504466110110993,\t Y = 1.0979493731622691\n",
            "f(x,y) = -0.017684959321688534,\t X = 1.6173526307570314,\t Y = 1.1911273205309616\n",
            "f(x,y) = -0.021767886380854685,\t X = 1.7399586966052667,\t Y = 1.2647479234492107\n",
            "f(x,y) = -0.024885476067136283,\t X = 1.8539286472481458,\t Y = 1.3166279779445191\n",
            "f(x,y) = -0.026851165514886987,\t X = 1.9464066630783416,\t Y = 1.3533529311585053\n",
            "f(x,y) = -0.027929157673625825,\t X = 2.0153282641323353,\t Y = 1.3794276958817993\n",
            "f(x,y) = -0.028474148000280367,\t X = 2.064461760151374,\t Y = 1.397612715133321\n",
            "f(x,y) = -0.02873855146398449,\t X = 2.0987375799709724,\t Y = 1.4101288428061596\n",
            "f(x,y) = -0.028864392656207966,\t X = 2.1224080075423095,\t Y = 1.4186952792110732\n",
            "f(x,y) = -0.028923788515325344,\t X = 2.1386810316534177,\t Y = 1.4245491885740114\n",
            "f(x,y) = -0.028951728832043166,\t X = 2.1498472389953265,\t Y = 1.4285496814399574\n",
            "f(x,y) = -0.028964856762030106,\t X = 2.1575036264891776,\t Y = 1.4312851384097198\n",
            "f(x,y) = -0.02897102331156088,\t X = 2.162752176935703,\t Y = 1.433156798467332\n",
            "f(x,y) = -0.028973920088373628,\t X = 2.1663499926334175,\t Y = 1.4344381493782767\n",
            "f(x,y) = -0.02897528108510691,\t X = 2.1688163334421553,\t Y = 1.435315757540875\n",
            "f(x,y) = -0.02897592062912531,\t X = 2.1705071219743663,\t Y = 1.4359170362356946\n",
            "f(x,y) = -0.028976221197913276,\t X = 2.1716662895583085,\t Y = 1.4363290901551633\n",
            "f(x,y) = -0.028976362472408267,\t X = 2.1724610203059127,\t Y = 1.436611516655522\n",
            "f(x,y) = -0.028976428880034787,\t X = 2.1730059074993906,\t Y = 1.4368051179122279\n",
            "f(x,y) = -0.028976460097442525,\t X = 2.1733795037787416,\t Y = 1.4369378410514655\n",
            "f(x,y) = -0.02897647477295197,\t X = 2.173635660156597,\t Y = 1.4370288344500344\n",
            "f(x,y) = -0.028976481672200106,\t X = 2.173811295745016,\t Y = 1.4370912208938367\n",
            "f(x,y) = -0.028976484915737098,\t X = 2.1739317225488652,\t Y = 1.4371339951394644\n",
            "f(x,y) = -0.02897648644063877,\t X = 2.1740142951731323,\t Y = 1.4371633231493912\n",
            "f(x,y) = -0.028976487157555846,\t X = 2.174070912660995,\t Y = 1.4371834320534254\n",
            "f(x,y) = -0.028976487494609255,\t X = 2.174109733614187,\t Y = 1.4371972199505534\n",
            "f(x,y) = -0.028976487653073178,\t X = 2.1741363520508004,\t Y = 1.4372066738350848\n",
            "f(x,y) = -0.02897648772757446,\t X = 2.174154603586418,\t Y = 1.437213156063865\n",
            "f(x,y) = -0.028976487762601057,\t X = 2.174167118176555,\t Y = 1.4372176007351982\n",
            "f(x,y) = -0.0289764877790687,\t X = 2.174175699101327,\t Y = 1.4372206483199872\n",
            "f(x,y) = -0.028976487786810938,\t X = 2.1741815828176496,\t Y = 1.4372227379650446\n",
            "f(x,y) = -0.028976487790451005,\t X = 2.174185617129547,\t Y = 1.4372241707784947\n",
            "f(x,y) = -0.028976487792162307,\t X = 2.1741883833532296,\t Y = 1.4372251532207847\n",
            "f(x,y) = -0.028976487792966882,\t X = 2.174190280081744,\t Y = 1.4372258268557714\n",
            "f(x,y) = -0.028976487793345166,\t X = 2.1741915806198695,\t Y = 1.437226288749803\n",
            "f(x,y) = -0.028976487793523013,\t X = 2.17419247236558,\t Y = 1.4372266054586202\n",
            "f(x,y) = -0.02897648779360663,\t X = 2.1741930838128165,\t Y = 1.4372268226177125\n",
            "f(x,y) = -0.028976487793645946,\t X = 2.1741935030665673,\t Y = 1.4372269715181327\n",
            "f(x,y) = -0.028976487793664418,\t X = 2.1741937905381588,\t Y = 1.4372270736153387\n",
            "f(x,y) = -0.02897648779367313,\t X = 2.174193987650092,\t Y = 1.4372271436207817\n",
            "f(x,y) = -0.028976487793677164,\t X = 2.174194122804715,\t Y = 1.4372271916217256\n",
            "f(x,y) = -0.028976487793679135,\t X = 2.174194215476791,\t Y = 1.4372272245347468\n",
            "f(x,y) = -0.02897648779368,\t X = 2.1741942790196696,\t Y = 1.4372272471023655\n",
            "f(x,y) = -0.028976487793680453,\t X = 2.1741943225894005,\t Y = 1.4372272625764055\n",
            "f(x,y) = -0.0289764877936807,\t X = 2.174194352464054,\t Y = 1.4372272731865603\n",
            "f(x,y) = -0.02897648779368073,\t X = 2.1741943729483424,\t Y = 1.4372272804616726\n",
            "f(x,y) = -0.028976487793680814,\t X = 2.1741943869938964,\t Y = 1.4372272854500319\n",
            "f(x,y) = -0.028976487793680814,\t X = 2.1741943966245745,\t Y = 1.437227288870422\n",
            "f(x,y) = -0.028976487793680835,\t X = 2.174194403228084,\t Y = 1.4372272912156965\n",
            "f(x,y) = -0.028976487793680828,\t X = 2.174194407755943,\t Y = 1.4372272928237917\n",
            "f(x,y) = -0.02897648779368083,\t X = 2.1741944108605797,\t Y = 1.437227293926421\n",
            "f(x,y) = -0.02897648779368085,\t X = 2.1741944129893502,\t Y = 1.437227294682466\n",
            "f(x,y) = -0.028976487793680845,\t X = 2.174194414448994,\t Y = 1.4372272952008671\n",
            "f(x,y) = -0.028976487793680825,\t X = 2.1741944154498345,\t Y = 1.4372272955563212\n",
            "f(x,y) = -0.028976487793680856,\t X = 2.1741944161360856,\t Y = 1.4372272958000472\n",
            "f(x,y) = -0.028976487793680842,\t X = 2.1741944166066305,\t Y = 1.437227295967164\n",
            "f(x,y) = -0.02897648779368085,\t X = 2.1741944169292706,\t Y = 1.4372272960817514\n",
            "f(x,y) = -0.02897648779368085,\t X = 2.174194417150497,\t Y = 1.4372272961603214\n",
            "f(x,y) = -0.028976487793680835,\t X = 2.174194417302186,\t Y = 1.4372272962141945\n",
            "f(x,y) = -0.028976487793680863,\t X = 2.1741944174061953,\t Y = 1.4372272962511339\n",
            "f(x,y) = -0.028976487793680828,\t X = 2.1741944174775125,\t Y = 1.4372272962764627\n",
            "f(x,y) = -0.02897648779368084,\t X = 2.1741944175264116,\t Y = 1.4372272962938295\n",
            "f(x,y) = -0.028976487793680852,\t X = 2.1741944175599413,\t Y = 1.4372272963057378\n",
            "f(x,y) = -0.028976487793680863,\t X = 2.1741944175829313,\t Y = 1.4372272963139028\n",
            "f(x,y) = -0.02897648779368082,\t X = 2.1741944175986947,\t Y = 1.4372272963195014\n",
            "f(x,y) = -0.028976487793680866,\t X = 2.174194417609504,\t Y = 1.4372272963233401\n",
            "f(x,y) = -0.02897648779368087,\t X = 2.1741944176169152,\t Y = 1.4372272963259722\n",
            "f(x,y) = -0.028976487793680863,\t X = 2.1741944176219965,\t Y = 1.437227296327777\n",
            "f(x,y) = -0.028976487793680866,\t X = 2.1741944176254813,\t Y = 1.4372272963290145\n",
            "f(x,y) = -0.028976487793680852,\t X = 2.1741944176278705,\t Y = 1.4372272963298633\n",
            "f(x,y) = -0.028976487793680828,\t X = 2.174194417629509,\t Y = 1.4372272963304453\n",
            "f(x,y) = -0.028976487793680825,\t X = 2.1741944176306323,\t Y = 1.4372272963308441\n",
            "f(x,y) = -0.02897648779368086,\t X = 2.1741944176314028,\t Y = 1.4372272963311177\n",
            "f(x,y) = -0.028976487793680852,\t X = 2.174194417631931,\t Y = 1.4372272963313053\n",
            "f(x,y) = -0.02897648779368085,\t X = 2.1741944176322936,\t Y = 1.4372272963314339\n",
            "f(x,y) = -0.028976487793680804,\t X = 2.1741944176325423,\t Y = 1.4372272963315225\n",
            "f(x,y) = -0.028976487793680818,\t X = 2.174194417632712,\t Y = 1.4372272963315829\n",
            "f(x,y) = -0.028976487793680835,\t X = 2.1741944176328296,\t Y = 1.4372272963316244\n",
            "f(x,y) = -0.028976487793680842,\t X = 2.174194417632909,\t Y = 1.4372272963316528\n",
            "f(x,y) = -0.028976487793680884,\t X = 2.1741944176329637,\t Y = 1.4372272963316721\n",
            "f(x,y) = -0.028976487793680825,\t X = 2.1741944176330015,\t Y = 1.4372272963316857\n",
            "f(x,y) = -0.028976487793680825,\t X = 2.1741944176330272,\t Y = 1.4372272963316948\n",
            "f(x,y) = -0.028976487793680818,\t X = 2.1741944176330446,\t Y = 1.437227296331701\n",
            "f(x,y) = -0.02897648779368084,\t X = 2.174194417633056,\t Y = 1.437227296331705\n",
            "f(x,y) = -0.02897648779368083,\t X = 2.174194417633065,\t Y = 1.4372272963317076\n",
            "f(x,y) = -0.02897648779368084,\t X = 2.1741944176330694,\t Y = 1.4372272963317099\n",
            "f(x,y) = -0.028976487793680856,\t X = 2.174194417633074,\t Y = 1.4372272963317112\n"
          ],
          "name": "stdout"
        }
      ]
    },
    {
      "cell_type": "code",
      "metadata": {
        "id": "0PhHYTwh2A3i",
        "colab_type": "code",
        "outputId": "e479f856-0c0e-4a6d-fb30-2e8953d0b25e",
        "colab": {
          "base_uri": "https://localhost:8080/",
          "height": 282
        }
      },
      "source": [
        "import matplotlib.pyplot as plt\n",
        "\n",
        "##loss value drop after each iteration:\n",
        "print(loss[-1])\n",
        "iterations = range(len(loss))\n",
        "plt.scatter(iterations,loss)\n",
        "plt.show()"
      ],
      "execution_count": 9,
      "outputs": [
        {
          "output_type": "stream",
          "text": [
            "0.0\n"
          ],
          "name": "stdout"
        },
        {
          "output_type": "display_data",
          "data": {
            "image/png": "[encoded data removed]",
            "text/plain": [
              "<Figure size 432x288 with 1 Axes>"
            ]
          },
          "metadata": {
            "tags": [],
            "needs_background": "light"
          }
        }
      ]
    }
  ]
}