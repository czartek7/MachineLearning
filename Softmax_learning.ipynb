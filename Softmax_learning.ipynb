{
  "nbformat": 4,
  "nbformat_minor": 0,
  "metadata": {
    "colab": {
      "name": "Softmax_learning",
      "provenance": [],
      "collapsed_sections": [],
      "include_colab_link": true
    },
    "kernelspec": {
      "name": "python3",
      "display_name": "Python 3"
    }
  },
  "cells": [
    {
      "cell_type": "markdown",
      "metadata": {
        "id": "view-in-github",
        "colab_type": "text"
      },
      "source": [
        "<a href=\"https://colab.research.google.com/github/czartek7/MachineLearning/blob/master/Softmax_learning.ipynb\" target=\"_parent\"><img src=\"https://colab.research.google.com/assets/colab-badge.svg\" alt=\"Open In Colab\"/></a>"
      ]
    },
    {
      "cell_type": "code",
      "metadata": {
        "id": "ulycSm9BDB5s",
        "colab_type": "code",
        "colab": {
          "base_uri": "https://localhost:8080/",
          "height": 88
        },
        "outputId": "7dde2c27-0643-4608-fb6e-ab6d82d8e5dd"
      },
      "source": [
        "import numpy as np\n",
        "import matplotlib.pyplot as plt\n",
        "import tensorflow.compat.v1 as tf\n",
        "tf.disable_v2_behavior()"
      ],
      "execution_count": 7,
      "outputs": [
        {
          "output_type": "stream",
          "text": [
            "WARNING:tensorflow:From /usr/local/lib/python3.6/dist-packages/tensorflow/python/compat/v2_compat.py:96: disable_resource_variables (from tensorflow.python.ops.variable_scope) is deprecated and will be removed in a future version.\n",
            "Instructions for updating:\n",
            "non-resource variables are not supported in the long term\n"
          ],
          "name": "stdout"
        }
      ]
    },
    {
      "cell_type": "code",
      "metadata": {
        "id": "H9OFL2rwowrg",
        "colab_type": "code",
        "outputId": "5ca3f2da-612c-411c-a96e-7eee250700e5",
        "colab": {
          "base_uri": "https://localhost:8080/",
          "height": 265
        }
      },
      "source": [
        "x1_label0 = np.random.normal(1, 1, (500, 1)) \n",
        "x2_label0 = np.random.normal(1, 1, (500, 1)) \n",
        "x1_label1 = np.random.normal(9, 1, (500, 1)) \n",
        "x2_label1 = np.random.normal(9, 1, (500, 1)) \n",
        "x1_label2 = np.random.normal(10, 1, (500, 1)) \n",
        "x2_label2 = np.random.normal(0, 1, (500, 1)) \n",
        "plt.scatter(x1_label0, x2_label0, c='r', marker='o', s=60) \n",
        "plt.scatter(x1_label1, x2_label1, c='g', marker='x', s=60) \n",
        "plt.scatter(x1_label2, x2_label2, c='b', marker='3', s=60) \n",
        "plt.show()"
      ],
      "execution_count": 8,
      "outputs": [
        {
          "output_type": "display_data",
          "data": {
            "image/png": "[encoded data removed]",
            "text/plain": [
              "<Figure size 432x288 with 1 Axes>"
            ]
          },
          "metadata": {
            "tags": [],
            "needs_background": "light"
          }
        }
      ]
    },
    {
      "cell_type": "code",
      "metadata": {
        "id": "wYzu3_H4pL0H",
        "colab_type": "code",
        "outputId": "652e7097-4cc8-4efc-b8fa-cd9964dbcf13",
        "colab": {
          "base_uri": "https://localhost:8080/",
          "height": 34
        }
      },
      "source": [
        "xs_label0 = np.hstack((x1_label0, x2_label0)) \n",
        "xs_label1 = np.hstack((x1_label1, x2_label1)) \n",
        "xs_label2 = np.hstack((x1_label2, x2_label2))\n",
        "\n",
        "x = np.vstack((xs_label0, xs_label1, xs_label2))\n",
        "print(x[2])\n",
        "\n",
        "##labels:\n",
        "##[1.,0.,0.] is red, [0.,1.,0.] is green, [0.,0.,1.] is blue\n",
        "label = np.asarray([[1.,0.,0.]]*len(x1_label0)+[[0.,1.,0.]]*len(x1_label1)+[[0.,0.,1.]]*len(x1_label2))"
      ],
      "execution_count": 9,
      "outputs": [
        {
          "output_type": "stream",
          "text": [
            "[3.2390157 0.8598236]\n"
          ],
          "name": "stdout"
        }
      ]
    },
    {
      "cell_type": "code",
      "metadata": {
        "id": "6X7mR_mepRBj",
        "colab_type": "code",
        "outputId": "976b6956-4158-45af-a7a0-ff162aa20aa3",
        "colab": {
          "base_uri": "https://localhost:8080/",
          "height": 34
        }
      },
      "source": [
        "x.shape, label.shape"
      ],
      "execution_count": 10,
      "outputs": [
        {
          "output_type": "execute_result",
          "data": {
            "text/plain": [
              "((1500, 2), (1500, 3))"
            ]
          },
          "metadata": {
            "tags": []
          },
          "execution_count": 10
        }
      ]
    },
    {
      "cell_type": "code",
      "metadata": {
        "id": "L2vK6r8KZwdR",
        "colab_type": "code",
        "colab": {}
      },
      "source": [
        "learning_rate = 1\n",
        "training_epochs = 1000\n",
        "\n",
        "X = tf.placeholder(tf.float64,shape=[None, 2])\n",
        "Y = tf.placeholder(tf.float64,shape=[None, 3])\n",
        "\n",
        "W = tf.Variable(tf.zeros([2,3],dtype=np.float64))\n",
        "b = tf.Variable(tf.zeros([3],dtype=np.float64))"
      ],
      "execution_count": 0,
      "outputs": []
    },
    {
      "cell_type": "code",
      "metadata": {
        "id": "BdLFLuOnZ5m_",
        "colab_type": "code",
        "colab": {}
      },
      "source": [
        "y_model = tf.matmul(X, W) + b\n",
        "loss_function = tf.reduce_mean(tf.nn.softmax_cross_entropy_with_logits_v2(logits=y_model,labels=Y))"
      ],
      "execution_count": 0,
      "outputs": []
    },
    {
      "cell_type": "code",
      "metadata": {
        "id": "EW7s3u4LZ8Cq",
        "colab_type": "code",
        "colab": {}
      },
      "source": [
        "optimizer = tf.train.GradientDescentOptimizer(learning_rate) \n",
        "train = optimizer.minimize(loss_function)\n",
        "\n",
        "init = tf.global_variables_initializer()\n",
        "\n",
        "loss = []\n",
        "with tf.Session() as sess:\n",
        "    sess.run(init)\n",
        "    for epoch in range(training_epochs):\n",
        "        W_val,loss_val,_ = sess.run([W,loss_function,train],feed_dict={X: x, Y: label})\n",
        "        loss.append(loss_val)\n",
        "\n",
        "    result = sess.run(tf.nn.softmax(y_model), {X:[[10.,10.]]})"
      ],
      "execution_count": 0,
      "outputs": []
    },
    {
      "cell_type": "code",
      "metadata": {
        "id": "9sJAcfm4ogB-",
        "colab_type": "code",
        "outputId": "a7c9ab42-ca1d-464a-a90c-43b6a9e59484",
        "colab": {
          "base_uri": "https://localhost:8080/",
          "height": 34
        }
      },
      "source": [
        "print(result)"
      ],
      "execution_count": 14,
      "outputs": [
        {
          "output_type": "stream",
          "text": [
            "[[2.04763148e-05 9.99977546e-01 1.97794804e-06]]\n"
          ],
          "name": "stdout"
        }
      ]
    },
    {
      "cell_type": "code",
      "metadata": {
        "id": "AXequMi5Z83_",
        "colab_type": "code",
        "outputId": "9a9c0aae-0098-4ebe-ec27-534f31f0d517",
        "colab": {
          "base_uri": "https://localhost:8080/",
          "height": 282
        }
      },
      "source": [
        "epochs = range(len(loss))\n",
        "import matplotlib.pyplot as plt\n",
        "plt.scatter(epochs,loss)\n",
        "plt.show()\n",
        "print(np.min(loss))"
      ],
      "execution_count": 15,
      "outputs": [
        {
          "output_type": "display_data",
          "data": {
            "image/png": "[encoded data removed]",
            "text/plain": [
              "<Figure size 432x288 with 1 Axes>"
            ]
          },
          "metadata": {
            "tags": [],
            "needs_background": "light"
          }
        },
        {
          "output_type": "stream",
          "text": [
            "0.0022500396448006045\n"
          ],
          "name": "stdout"
        }
      ]
    }
  ]
}